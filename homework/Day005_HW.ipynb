{
 "cells": [
  {
   "cell_type": "markdown",
   "metadata": {},
   "source": [
    "# API 資料串接 - 以 Dcard API 實作範例\n",
    "\n",
    "* 利用 urllib 套件的 urlretrieve 方法下載檔案\n",
    "* 了解 Python File I/O 讀檔、寫檔的用法\n",
    "* 能用運用資源管理器 With Statement 優化寫法"
   ]
  },
  {
   "cell_type": "markdown",
   "metadata": {},
   "source": [
    "## 作業目標\n",
    "\n",
    "* 請利用 API: https://www.dcard.tw/_api/forums/pet/posts?popular=true 回答下列問題：\n",
    "\n",
    "1. 這個 API 一次會回傳幾筆資料？每一筆資料包含哪些欄位？\n",
    "2. 取出每一筆資料的「標題」、「貼文時間」、「留言人數」、「按讚人數」\n",
    "3. 計算熱門/非熱門文章的「平均留言人數」與「平均按讚人數」"
   ]
  },
  {
   "cell_type": "code",
   "execution_count": 10,
   "metadata": {},
   "outputs": [
    {
     "name": "stdout",
     "output_type": "stream",
     "text": [
      "30 筆\n",
      "欄位 dict_keys(['id', 'title', 'excerpt', 'anonymousSchool', 'anonymousDepartment', 'pinned', 'forumId', 'replyId', 'createdAt', 'updatedAt', 'commentCount', 'likeCount', 'withNickname', 'tags', 'topics', 'meta', 'forumName', 'forumAlias', 'gender', 'school', 'department', 'replyTitle', 'mediaMeta', 'reactions', 'hidden', 'customStyle', 'isSuspiciousAccount', 'layout', 'withImages', 'withVideos', 'media', 'reportReasonText', 'postAvatar'])\n"
     ]
    }
   ],
   "source": [
    "# 1. 這個 API 一次會回傳幾筆資料？每一筆資料包含哪些欄位？\n",
    "\n",
    "import requests\n",
    "import json\n",
    "r = requests.get('https://www.dcard.tw/_api/forums/pet/posts?popular=true')\n",
    "\n",
    "count = json.loads(r.text)\n",
    "print(len(count),'筆')\n",
    "print('欄位',count[0].keys())"
   ]
  },
  {
   "cell_type": "code",
   "execution_count": 12,
   "metadata": {},
   "outputs": [
    {
     "name": "stdout",
     "output_type": "stream",
     "text": [
      "標題： 我家的貓每天睡覺前一定會做的事\n",
      "貼文時間： 2019-11-30T06:52:29.882Z\n",
      "留言人數： 111\n",
      "按讚人數： 3682\n",
      "標題： 被擠床原來是一件幸福的事\n",
      "貼文時間： 2019-11-30T04:15:42.699Z\n",
      "留言人數： 22\n",
      "按讚人數： 1433\n",
      "標題： #哈士奇 滿一歲啦 文長 滿滿的二哈\n",
      "貼文時間： 2019-11-30T16:30:51.154Z\n",
      "留言人數： 23\n",
      "按讚人數： 739\n",
      "標題： 媽 晚餐好了沒\n",
      "貼文時間： 2019-11-30T10:42:58.582Z\n",
      "留言人數： 4\n",
      "按讚人數： 499\n",
      "標題： 有貓快拜！！\n",
      "貼文時間： 2019-11-30T03:07:22.599Z\n",
      "留言人數： 4\n",
      "按讚人數： 363\n",
      "標題： 有人要吸兔嗎？\n",
      "貼文時間： 2019-11-30T04:58:10.195Z\n",
      "留言人數： 36\n",
      "按讚人數： 267\n",
      "標題： 你到底是貓還是狗？\n",
      "貼文時間： 2019-11-30T14:32:06.500Z\n",
      "留言人數： 10\n",
      "按讚人數： 67\n",
      "標題： 原來柴犬可以那麽可愛🐕\n",
      "貼文時間： 2019-11-30T17:17:51.628Z\n",
      "留言人數： 2\n",
      "按讚人數： 59\n",
      "標題： 白圍巾白手套橘貓❤️\n",
      "貼文時間： 2019-11-30T07:44:14.420Z\n",
      "留言人數： 6\n",
      "按讚人數： 49\n",
      "標題： 我養的是工讀生？🤔\n",
      "貼文時間： 2019-12-01T02:07:09.729Z\n",
      "留言人數： 6\n",
      "按讚人數： 47\n",
      "標題： 好像買太小了...\n",
      "貼文時間： 2019-12-01T08:27:28.504Z\n",
      "留言人數： 1\n",
      "按讚人數： 37\n",
      "標題： 四個月的布偶屁貓\n",
      "貼文時間： 2019-11-30T11:24:26.047Z\n",
      "留言人數： 2\n",
      "按讚人數： 36\n",
      "標題： #柴 #影片 到底有多討厭洗澡\n",
      "貼文時間： 2019-11-30T03:24:55.897Z\n",
      "留言人數： 1\n",
      "按讚人數： 30\n",
      "標題： 從沒想過山竹可以這麼可口ฅ\n",
      "貼文時間： 2019-11-30T10:24:08.529Z\n",
      "留言人數： 5\n",
      "按讚人數： 29\n",
      "標題： 我不是貓 我是兔子\n",
      "貼文時間： 2019-11-30T11:16:53.115Z\n",
      "留言人數： 1\n",
      "按讚人數： 25\n",
      "標題： 如果當初這樣做 或許結局就能不同了吧\n",
      "貼文時間： 2019-12-01T00:49:18.221Z\n",
      "留言人數： 0\n",
      "按讚人數： 24\n",
      "標題： 自嗨小橘貓\n",
      "貼文時間： 2019-11-30T20:21:16.782Z\n",
      "留言人數： 1\n",
      "按讚人數： 23\n",
      "標題： 你一定要這樣厭世嗎\n",
      "貼文時間： 2019-11-30T13:05:07.439Z\n",
      "留言人數： 1\n",
      "按讚人數： 21\n",
      "標題： 小寶貝\n",
      "貼文時間： 2019-11-30T16:01:13.979Z\n",
      "留言人數： 0\n",
      "按讚人數： 20\n",
      "標題： #貓 #影 #圖 不只慢半拍ㄉ音癡（？\n",
      "貼文時間： 2019-11-30T08:14:35.514Z\n",
      "留言人數： 2\n",
      "按讚人數： 20\n",
      "標題： #貓咪 十隻白貓九隻胖\n",
      "貼文時間： 2019-11-30T15:24:46.075Z\n",
      "留言人數： 6\n",
      "按讚人數： 19\n",
      "標題： 就算之後天天吃泡麵也要救活妳\n",
      "貼文時間： 2019-11-30T11:59:28.473Z\n",
      "留言人數： 0\n",
      "按讚人數： 19\n",
      "標題： 我家阿咪的特技\n",
      "貼文時間： 2019-11-30T18:43:59.640Z\n",
      "留言人數： 4\n",
      "按讚人數： 17\n",
      "標題： 我家貓咪真可愛♥️♥️\n",
      "貼文時間： 2019-11-30T06:31:53.631Z\n",
      "留言人數： 6\n",
      "按讚人數： 13\n",
      "標題： 請問⋯妳是在哈囉？\n",
      "貼文時間： 2019-11-30T19:16:39.494Z\n",
      "留言人數： 2\n",
      "按讚人數： 12\n",
      "標題： 急尋愛貓一隻🙏🙏\n",
      "貼文時間： 2019-11-30T13:31:14.399Z\n",
      "留言人數： 2\n",
      "按讚人數： 12\n",
      "標題： 虎爺公的細漢欸（小弟）\n",
      "貼文時間： 2019-11-30T19:16:31.808Z\n",
      "留言人數： 0\n",
      "按讚人數： 10\n",
      "標題： 一隻會傳球的貓\n",
      "貼文時間： 2019-11-30T18:36:38.485Z\n",
      "留言人數： 0\n",
      "按讚人數： 10\n",
      "標題： 白貓是不是很白目？\n",
      "貼文時間： 2019-11-30T12:47:15.519Z\n",
      "留言人數： 4\n",
      "按讚人數： 9\n",
      "標題： 睡到投降的傻布偶小貓\n",
      "貼文時間： 2019-12-01T02:10:49.971Z\n",
      "留言人數： 0\n",
      "按讚人數： 8\n"
     ]
    }
   ],
   "source": [
    "# 2. 取出每一筆資料的「標題」、「貼文時間」、「留言人數」、「按讚人數」\n",
    "\n",
    "for d in count:\n",
    "    print('標題：',d['title'])\n",
    "    print('貼文時間：',d['createdAt'])\n",
    "    print('留言人數：',d['commentCount'])\n",
    "    print('按讚人數：',d['likeCount'])"
   ]
  },
  {
   "cell_type": "code",
   "execution_count": 23,
   "metadata": {},
   "outputs": [
    {
     "name": "stdout",
     "output_type": "stream",
     "text": [
      "熱門文章\n",
      "平均留言人數 8.7\n",
      "平均按讚人數 253.3\n",
      "非熱門文章\n",
      "平均留言人數 1.7\n",
      "平均按讚人數 4.6\n"
     ]
    }
   ],
   "source": [
    "# 3. 計算熱門/非熱門文章的「平均留言人數」與「平均按讚人數」\n",
    "from statistics import mean\n",
    "hot_comment=[]\n",
    "hot_like=[]\n",
    "nohot_comment=[]\n",
    "nohot_like=[]\n",
    "\n",
    "#print(mean(l))\n",
    "for d in count:\n",
    "    hot_comment.append(d['commentCount'])\n",
    "    hot_like.append(d['likeCount'])\n",
    "\n",
    "req = requests.get('https://www.dcard.tw/_api/forums/pet/posts?popular=false')\n",
    "data = json.loads(req.text)\n",
    "for d in data:\n",
    "    nohot_comment.append(d['commentCount'])\n",
    "    nohot_like.append(d['likeCount'])\n",
    "\n",
    "print('熱門文章');\n",
    "print('平均留言人數',round(mean(hot_comment),1));\n",
    "print('平均按讚人數',round(mean(hot_like),1));\n",
    "print('非熱門文章');\n",
    "print('平均留言人數',round(mean(nohot_comment),1));\n",
    "print('平均按讚人數',round(mean(nohot_like),1));"
   ]
  },
  {
   "cell_type": "code",
   "execution_count": null,
   "metadata": {},
   "outputs": [],
   "source": []
  },
  {
   "cell_type": "code",
   "execution_count": null,
   "metadata": {},
   "outputs": [],
   "source": []
  }
 ],
 "metadata": {
  "kernelspec": {
   "display_name": "Python 3",
   "language": "python",
   "name": "python3"
  },
  "language_info": {
   "codemirror_mode": {
    "name": "ipython",
    "version": 3
   },
   "file_extension": ".py",
   "mimetype": "text/x-python",
   "name": "python",
   "nbconvert_exporter": "python",
   "pygments_lexer": "ipython3",
   "version": "3.7.4"
  }
 },
 "nbformat": 4,
 "nbformat_minor": 2
}
